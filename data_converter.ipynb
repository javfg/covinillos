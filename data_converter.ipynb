{
 "cells": [
  {
   "cell_type": "code",
   "execution_count": 11,
   "metadata": {},
   "outputs": [],
   "source": [
    "from datetime import datetime\n",
    "import json\n",
    "\n",
    "import pandas as pd\n",
    "\n",
    "pd.set_option('display.max_columns', None)\n",
    "pd.set_option('display.max_rows', 10)"
   ]
  },
  {
   "cell_type": "code",
   "execution_count": 3,
   "metadata": {},
   "outputs": [],
   "source": [
    "coord_cols = [\"Lat\", \"Long\"]\n",
    "location_cols = [\"Province/State\", \"Country/Region\"]\n",
    "\n",
    "covid_root_path = \"/home/javilol/learn/d3/covid\"\n",
    "covid_timeseries_path = f\"{covid_root_path}/COVID-19/csse_covid_19_data/csse_covid_19_time_series/\"\n",
    ""
   ]
  },
  {
   "cell_type": "markdown",
   "metadata": {},
   "source": [
    "### Functions for data fixing"
   ],
   "execution_count": null,
   "outputs": []
  },
  {
   "cell_type": "code",
   "execution_count": 4,
   "metadata": {},
   "outputs": [],
   "source": [
    "def fix_data(df, original_date_format):\n",
    "    # remove coordinates columns\n",
    "    df = df.drop(coord_cols, axis=1)\n",
    "\n",
    "    # get columns with values\n",
    "    data_cols = [x for x in df.columns if x not in location_cols]\n",
    "\n",
    "    # fill zeros and convert to int in data columns\n",
    "    df[df.columns[~df.columns.isin(location_cols)]] = df[df.columns[~df.columns.isin(location_cols)]].fillna(0).astype(int)\n",
    "\n",
    "    # convert dates to ISO6801\n",
    "    column_names = location_cols + [str(datetime.strptime(date, original_date_format).date()) for date in data_cols]\n",
    "    df.columns = column_names\n",
    "\n",
    "    return df"
   ]
  },
  {
   "cell_type": "code",
   "execution_count": 5,
   "metadata": {},
   "outputs": [],
   "source": [
    "def aggregate_countries(df):\n",
    "    return df.groupby(\"Country/Region\").sum()"
   ]
  },
  {
   "cell_type": "code",
   "execution_count": 6,
   "metadata": {},
   "outputs": [],
   "source": [
    "def sort_descending(df, col):\n",
    "    return df.sort_values(by=col, ascending=False)"
   ]
  },
  {
   "cell_type": "markdown",
   "metadata": {},
   "source": [
    "### Generate datasets"
   ],
   "execution_count": null,
   "outputs": []
  },
  {
   "cell_type": "code",
   "execution_count": 7,
   "metadata": {
    "tags": [
     "outputPrepend"
    ]
   },
   "outputs": [],
   "source": [
    "confirmed_total = f\"{covid_timeseries_path}time_series_covid19_confirmed_global.csv\"\n",
    "confirmed_total = aggregate_countries(fix_data(pd.read_csv(confirmed_total, sep=\",\"), \"%m/%d/%y\"))\n",
    "confirmed_total = sort_descending(confirmed_total, confirmed_total.columns[-1])\n",
    "confirmed_daily = confirmed_total.diff(axis=1).fillna(confirmed_total).clip(lower=0).astype(int)\n",
    "\n",
    "country_order = list(confirmed_total.index.values)\n",
    "\n",
    "deaths_total = f\"{covid_timeseries_path}time_series_covid19_deaths_global.csv\"\n",
    "deaths_total = aggregate_countries(fix_data(pd.read_csv(deaths_total, sep=\",\"), \"%m/%d/%y\"))\n",
    "deaths_total = deaths_total.loc[country_order]\n",
    "deaths_daily = deaths_total.diff(axis=1).fillna(deaths_total).clip(lower=0).astype(int)\n",
    "\n",
    "recovered_total = f\"{covid_timeseries_path}time_series_covid19_recovered_global.csv\"\n",
    "recovered_total = aggregate_countries(fix_data(pd.read_csv(recovered_total, sep=\",\"), \"%m/%d/%y\"))\n",
    "recovered_total = recovered_total.loc[country_order]\n",
    "recovered_daily = recovered_total.diff(axis=1).fillna(recovered_total).clip(lower=0).astype(int)"
   ]
  },
  {
   "cell_type": "markdown",
   "metadata": {},
   "source": [
    "### Save CSVs"
   ],
   "execution_count": null,
   "outputs": []
  },
  {
   "cell_type": "code",
   "execution_count": 8,
   "metadata": {},
   "outputs": [],
   "source": [
    "confirmed_total.to_csv(\"./covinillos/data/confirmed_total.csv\", header=True, sep=\",\")\n",
    "confirmed_daily.to_csv(\"./covinillos/data/confirmed_daily.csv\", header=True, sep=\",\")\n",
    "deaths_total.to_csv(\"./covinillos/data/deaths_total.csv\", header=True, sep=\",\")\n",
    "deaths_daily.to_csv(\"./covinillos/data/deaths_daily.csv\", header=True, sep=\",\")\n",
    "recovered_total.to_csv(\"./covinillos/data/recovered_total.csv\", header=True, sep=\",\")\n",
    "recovered_daily.to_csv(\"./covinillos/data/recovered_daily.csv\", header=True, sep=\",\")"
   ]
  },
  {
   "cell_type": "markdown",
   "metadata": {},
   "source": [
    "### Load events"
   ]
  },
  {
   "cell_type": "code",
   "execution_count": 9,
   "metadata": {},
   "outputs": [],
   "source": [
    "events = pd.read_csv(f\"{covid_root_path}/events.csv\", skip_blank_lines=True)"
   ]
  },
  {
   "cell_type": "code",
   "execution_count": 12,
   "metadata": {},
   "outputs": [
    {
     "output_type": "execute_result",
     "data": {
      "text/plain": "        country        date                         description\n0       Austria  2020-03-16  case based self isolation mandated\n1       Belgium  2020-03-09  case based self isolation mandated\n2       Denmark  2020-03-12  case based self isolation mandated\n3        France  2020-03-16  case based self isolation mandated\n4       Germany  2020-03-06  case based self isolation mandated\n5         Italy  2020-03-08  case based self isolation mandated\n6        Norway  2020-03-15  case based self isolation mandated\n7         Spain  2020-03-17  case based self isolation mandated\n8        Sweden  2020-03-09  case based self isolation mandated\n9   Switzerland  2020-03-02  case based self isolation mandated\n10           UK  2020-03-12  case based self isolation mandated\n11      Austria  2020-03-16        social distancing encouraged\n12      Belgium  2020-03-14        social distancing encouraged\n13      Denmark  2020-03-13        social distancing encouraged\n14       France  2020-03-16        social distancing encouraged\n15      Germany  2020-03-12        social distancing encouraged\n16        Italy  2020-03-08        social distancing encouraged\n17       Norway  2020-03-16        social distancing encouraged\n18        Spain  2020-03-08        social distancing encouraged\n19       Sweden  2020-03-16        social distancing encouraged\n20  Switzerland  2020-03-16        social distancing encouraged\n21           UK  2020-03-16        social distancing encouraged\n22      Austria  2020-03-10                public events banned\n23      Belgium  2020-03-12                public events banned\n24      Denmark  2020-03-12                public events banned\n25       France  2020-03-13                public events banned\n26      Germany  2020-03-22                public events banned\n27        Italy  2020-03-09                public events banned\n28       Norway  2020-03-12                public events banned\n29        Spain  2020-03-14                public events banned\n30       Sweden  2020-03-12                public events banned\n31  Switzerland  2020-03-13                public events banned\n32           UK  2020-03-24                public events banned\n33      Austria  2020-03-14              school closure ordered\n34      Belgium  2020-03-14              school closure ordered\n35      Denmark  2020-03-13              school closure ordered\n36       France  2020-03-14              school closure ordered\n37      Germany  2020-03-14              school closure ordered\n38        Italy  2020-03-05              school closure ordered\n39       Norway  2020-03-13              school closure ordered\n40        Spain  2020-03-13              school closure ordered\n41       Sweden  2020-03-18              school closure ordered\n42  Switzerland  2020-03-14              school closure ordered\n43           UK  2020-03-21              school closure ordered\n44      Austria  2020-03-16                            lockdown\n45      Belgium  2020-03-18                            lockdown\n46      Denmark  2020-03-18                            lockdown\n47       France  2020-03-17                            lockdown\n48      Germany  2020-03-22                            lockdown\n49        Italy  2020-03-11                            lockdown\n50       Norway  2020-03-24                            lockdown\n51        Spain  2020-03-14                            lockdown\n52  Switzerland  2020-03-20                            lockdown\n53           UK  2020-03-24                            lockdown",
      "text/html": "<div>\n<style scoped>\n    .dataframe tbody tr th:only-of-type {\n        vertical-align: middle;\n    }\n\n    .dataframe tbody tr th {\n        vertical-align: top;\n    }\n\n    .dataframe thead th {\n        text-align: right;\n    }\n</style>\n<table border=\"1\" class=\"dataframe\">\n  <thead>\n    <tr style=\"text-align: right;\">\n      <th></th>\n      <th>country</th>\n      <th>date</th>\n      <th>description</th>\n    </tr>\n  </thead>\n  <tbody>\n    <tr>\n      <th>0</th>\n      <td>Austria</td>\n      <td>2020-03-16</td>\n      <td>case based self isolation mandated</td>\n    </tr>\n    <tr>\n      <th>1</th>\n      <td>Belgium</td>\n      <td>2020-03-09</td>\n      <td>case based self isolation mandated</td>\n    </tr>\n    <tr>\n      <th>2</th>\n      <td>Denmark</td>\n      <td>2020-03-12</td>\n      <td>case based self isolation mandated</td>\n    </tr>\n    <tr>\n      <th>3</th>\n      <td>France</td>\n      <td>2020-03-16</td>\n      <td>case based self isolation mandated</td>\n    </tr>\n    <tr>\n      <th>4</th>\n      <td>Germany</td>\n      <td>2020-03-06</td>\n      <td>case based self isolation mandated</td>\n    </tr>\n    <tr>\n      <th>5</th>\n      <td>Italy</td>\n      <td>2020-03-08</td>\n      <td>case based self isolation mandated</td>\n    </tr>\n    <tr>\n      <th>6</th>\n      <td>Norway</td>\n      <td>2020-03-15</td>\n      <td>case based self isolation mandated</td>\n    </tr>\n    <tr>\n      <th>7</th>\n      <td>Spain</td>\n      <td>2020-03-17</td>\n      <td>case based self isolation mandated</td>\n    </tr>\n    <tr>\n      <th>8</th>\n      <td>Sweden</td>\n      <td>2020-03-09</td>\n      <td>case based self isolation mandated</td>\n    </tr>\n    <tr>\n      <th>9</th>\n      <td>Switzerland</td>\n      <td>2020-03-02</td>\n      <td>case based self isolation mandated</td>\n    </tr>\n    <tr>\n      <th>10</th>\n      <td>UK</td>\n      <td>2020-03-12</td>\n      <td>case based self isolation mandated</td>\n    </tr>\n    <tr>\n      <th>11</th>\n      <td>Austria</td>\n      <td>2020-03-16</td>\n      <td>social distancing encouraged</td>\n    </tr>\n    <tr>\n      <th>12</th>\n      <td>Belgium</td>\n      <td>2020-03-14</td>\n      <td>social distancing encouraged</td>\n    </tr>\n    <tr>\n      <th>13</th>\n      <td>Denmark</td>\n      <td>2020-03-13</td>\n      <td>social distancing encouraged</td>\n    </tr>\n    <tr>\n      <th>14</th>\n      <td>France</td>\n      <td>2020-03-16</td>\n      <td>social distancing encouraged</td>\n    </tr>\n    <tr>\n      <th>15</th>\n      <td>Germany</td>\n      <td>2020-03-12</td>\n      <td>social distancing encouraged</td>\n    </tr>\n    <tr>\n      <th>16</th>\n      <td>Italy</td>\n      <td>2020-03-08</td>\n      <td>social distancing encouraged</td>\n    </tr>\n    <tr>\n      <th>17</th>\n      <td>Norway</td>\n      <td>2020-03-16</td>\n      <td>social distancing encouraged</td>\n    </tr>\n    <tr>\n      <th>18</th>\n      <td>Spain</td>\n      <td>2020-03-08</td>\n      <td>social distancing encouraged</td>\n    </tr>\n    <tr>\n      <th>19</th>\n      <td>Sweden</td>\n      <td>2020-03-16</td>\n      <td>social distancing encouraged</td>\n    </tr>\n    <tr>\n      <th>20</th>\n      <td>Switzerland</td>\n      <td>2020-03-16</td>\n      <td>social distancing encouraged</td>\n    </tr>\n    <tr>\n      <th>21</th>\n      <td>UK</td>\n      <td>2020-03-16</td>\n      <td>social distancing encouraged</td>\n    </tr>\n    <tr>\n      <th>22</th>\n      <td>Austria</td>\n      <td>2020-03-10</td>\n      <td>public events banned</td>\n    </tr>\n    <tr>\n      <th>23</th>\n      <td>Belgium</td>\n      <td>2020-03-12</td>\n      <td>public events banned</td>\n    </tr>\n    <tr>\n      <th>24</th>\n      <td>Denmark</td>\n      <td>2020-03-12</td>\n      <td>public events banned</td>\n    </tr>\n    <tr>\n      <th>25</th>\n      <td>France</td>\n      <td>2020-03-13</td>\n      <td>public events banned</td>\n    </tr>\n    <tr>\n      <th>26</th>\n      <td>Germany</td>\n      <td>2020-03-22</td>\n      <td>public events banned</td>\n    </tr>\n    <tr>\n      <th>27</th>\n      <td>Italy</td>\n      <td>2020-03-09</td>\n      <td>public events banned</td>\n    </tr>\n    <tr>\n      <th>28</th>\n      <td>Norway</td>\n      <td>2020-03-12</td>\n      <td>public events banned</td>\n    </tr>\n    <tr>\n      <th>29</th>\n      <td>Spain</td>\n      <td>2020-03-14</td>\n      <td>public events banned</td>\n    </tr>\n    <tr>\n      <th>30</th>\n      <td>Sweden</td>\n      <td>2020-03-12</td>\n      <td>public events banned</td>\n    </tr>\n    <tr>\n      <th>31</th>\n      <td>Switzerland</td>\n      <td>2020-03-13</td>\n      <td>public events banned</td>\n    </tr>\n    <tr>\n      <th>32</th>\n      <td>UK</td>\n      <td>2020-03-24</td>\n      <td>public events banned</td>\n    </tr>\n    <tr>\n      <th>33</th>\n      <td>Austria</td>\n      <td>2020-03-14</td>\n      <td>school closure ordered</td>\n    </tr>\n    <tr>\n      <th>34</th>\n      <td>Belgium</td>\n      <td>2020-03-14</td>\n      <td>school closure ordered</td>\n    </tr>\n    <tr>\n      <th>35</th>\n      <td>Denmark</td>\n      <td>2020-03-13</td>\n      <td>school closure ordered</td>\n    </tr>\n    <tr>\n      <th>36</th>\n      <td>France</td>\n      <td>2020-03-14</td>\n      <td>school closure ordered</td>\n    </tr>\n    <tr>\n      <th>37</th>\n      <td>Germany</td>\n      <td>2020-03-14</td>\n      <td>school closure ordered</td>\n    </tr>\n    <tr>\n      <th>38</th>\n      <td>Italy</td>\n      <td>2020-03-05</td>\n      <td>school closure ordered</td>\n    </tr>\n    <tr>\n      <th>39</th>\n      <td>Norway</td>\n      <td>2020-03-13</td>\n      <td>school closure ordered</td>\n    </tr>\n    <tr>\n      <th>40</th>\n      <td>Spain</td>\n      <td>2020-03-13</td>\n      <td>school closure ordered</td>\n    </tr>\n    <tr>\n      <th>41</th>\n      <td>Sweden</td>\n      <td>2020-03-18</td>\n      <td>school closure ordered</td>\n    </tr>\n    <tr>\n      <th>42</th>\n      <td>Switzerland</td>\n      <td>2020-03-14</td>\n      <td>school closure ordered</td>\n    </tr>\n    <tr>\n      <th>43</th>\n      <td>UK</td>\n      <td>2020-03-21</td>\n      <td>school closure ordered</td>\n    </tr>\n    <tr>\n      <th>44</th>\n      <td>Austria</td>\n      <td>2020-03-16</td>\n      <td>lockdown</td>\n    </tr>\n    <tr>\n      <th>45</th>\n      <td>Belgium</td>\n      <td>2020-03-18</td>\n      <td>lockdown</td>\n    </tr>\n    <tr>\n      <th>46</th>\n      <td>Denmark</td>\n      <td>2020-03-18</td>\n      <td>lockdown</td>\n    </tr>\n    <tr>\n      <th>47</th>\n      <td>France</td>\n      <td>2020-03-17</td>\n      <td>lockdown</td>\n    </tr>\n    <tr>\n      <th>48</th>\n      <td>Germany</td>\n      <td>2020-03-22</td>\n      <td>lockdown</td>\n    </tr>\n    <tr>\n      <th>49</th>\n      <td>Italy</td>\n      <td>2020-03-11</td>\n      <td>lockdown</td>\n    </tr>\n    <tr>\n      <th>50</th>\n      <td>Norway</td>\n      <td>2020-03-24</td>\n      <td>lockdown</td>\n    </tr>\n    <tr>\n      <th>51</th>\n      <td>Spain</td>\n      <td>2020-03-14</td>\n      <td>lockdown</td>\n    </tr>\n    <tr>\n      <th>52</th>\n      <td>Switzerland</td>\n      <td>2020-03-20</td>\n      <td>lockdown</td>\n    </tr>\n    <tr>\n      <th>53</th>\n      <td>UK</td>\n      <td>2020-03-24</td>\n      <td>lockdown</td>\n    </tr>\n  </tbody>\n</table>\n</div>"
     },
     "metadata": {},
     "execution_count": 12
    }
   ],
   "source": [
    "events"
   ]
  },
  {
   "cell_type": "markdown",
   "metadata": {},
   "source": [
    "### Create JSON"
   ],
   "execution_count": null,
   "outputs": []
  },
  {
   "cell_type": "code",
   "execution_count": 66,
   "metadata": {
    "tags": [
     "outputPrepend"
    ]
   },
   "outputs": [],
   "source": [
    "dataset = {}\n",
    "\n",
    "for country in country_order:\n",
    "    dataset[country] = []\n",
    "\n",
    "    for date in confirmed_total.columns:\n",
    "        day_data = {\n",
    "            'date': date,\n",
    "            'confirmed_total': int(confirmed_total.loc[country, date]),\n",
    "            'deaths_total': int(deaths_total.loc[country, date]),\n",
    "            'recovered_total': int(recovered_total.loc[country, date]),\n",
    "            'confirmed_daily': int(confirmed_daily.loc[country, date]),\n",
    "            'deaths_daily': int(deaths_daily.loc[country, date]),\n",
    "            'recovered_daily': int(recovered_daily.loc[country, date]),\n",
    "        }\n",
    "\n",
    "        event_list = list(events.loc[(events.country == country) & (events.date == date)]['description'])\n",
    "\n",
    "        if (len(events)):\n",
    "            day_data['events'] = event_list\n",
    "\n",
    "        dataset[country].append(day_data)"
   ]
  },
  {
   "cell_type": "code",
   "execution_count": 67,
   "metadata": {},
   "outputs": [],
   "source": [
    "with open(f\"{covid_root_path}/covinillos/data/dataset.json\", \"w\") as data_file:\n",
    "    json.dump(dataset, data_file)"
   ]
  }
 ],
 "metadata": {
  "kernelspec": {
   "display_name": "Python 3",
   "language": "python",
   "name": "python3"
  },
  "language_info": {
   "codemirror_mode": {
    "name": "ipython",
    "version": 3
   },
   "file_extension": ".py",
   "mimetype": "text/x-python",
   "name": "python",
   "nbconvert_exporter": "python",
   "pygments_lexer": "ipython3",
   "version": "3.8.0-final"
  }
 },
 "nbformat": 4,
 "nbformat_minor": 4
}